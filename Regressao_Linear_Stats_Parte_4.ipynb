{
 "cells": [
  {
   "cell_type": "markdown",
   "id": "90d060d8",
   "metadata": {},
   "source": [
    "# Regressão Linear - Stats Model - parte 4\n",
    "\n",
    "- Regressão linear utilizando a biblioteca Stats Model do Python\n",
    "- Matthews Borba"
   ]
  },
  {
   "cell_type": "code",
   "execution_count": 1,
   "id": "53e238ec",
   "metadata": {},
   "outputs": [],
   "source": [
    "# Importe a biblioteca NumPy com um alias (apelido) np\n",
    "import numpy as np\n",
    "\n",
    "# Importe a biblioteca Pandas com um alias (apelido) pd\n",
    "import pandas as pd\n",
    "\n",
    "# Importe a biblioteca Matplotlib com um alias (apelido) plt\n",
    "import matplotlib.pyplot as plt"
   ]
  },
  {
   "cell_type": "code",
   "execution_count": 2,
   "id": "58264f52",
   "metadata": {},
   "outputs": [],
   "source": [
    "\n",
    "# Carregue os dados de um arquivo CSV chamado 'Regresao_Linear.csv' usando a biblioteca Pandas\n",
    "dados = pd.read_csv('Regresao_Linear.csv')"
   ]
  },
  {
   "cell_type": "code",
   "execution_count": 3,
   "id": "e9cca5f4",
   "metadata": {},
   "outputs": [
    {
     "data": {
      "text/html": [
       "<div>\n",
       "<style scoped>\n",
       "    .dataframe tbody tr th:only-of-type {\n",
       "        vertical-align: middle;\n",
       "    }\n",
       "\n",
       "    .dataframe tbody tr th {\n",
       "        vertical-align: top;\n",
       "    }\n",
       "\n",
       "    .dataframe thead th {\n",
       "        text-align: right;\n",
       "    }\n",
       "</style>\n",
       "<table border=\"1\" class=\"dataframe\">\n",
       "  <thead>\n",
       "    <tr style=\"text-align: right;\">\n",
       "      <th></th>\n",
       "      <th>X</th>\n",
       "      <th>Y</th>\n",
       "    </tr>\n",
       "  </thead>\n",
       "  <tbody>\n",
       "    <tr>\n",
       "      <th>0</th>\n",
       "      <td>0.00000</td>\n",
       "      <td>-11.656137</td>\n",
       "    </tr>\n",
       "    <tr>\n",
       "      <th>1</th>\n",
       "      <td>0.10101</td>\n",
       "      <td>-8.074456</td>\n",
       "    </tr>\n",
       "    <tr>\n",
       "      <th>2</th>\n",
       "      <td>0.20202</td>\n",
       "      <td>-16.588246</td>\n",
       "    </tr>\n",
       "    <tr>\n",
       "      <th>3</th>\n",
       "      <td>0.30303</td>\n",
       "      <td>-4.275013</td>\n",
       "    </tr>\n",
       "    <tr>\n",
       "      <th>4</th>\n",
       "      <td>0.40404</td>\n",
       "      <td>-8.714275</td>\n",
       "    </tr>\n",
       "  </tbody>\n",
       "</table>\n",
       "</div>"
      ],
      "text/plain": [
       "         X          Y\n",
       "0  0.00000 -11.656137\n",
       "1  0.10101  -8.074456\n",
       "2  0.20202 -16.588246\n",
       "3  0.30303  -4.275013\n",
       "4  0.40404  -8.714275"
      ]
     },
     "execution_count": 3,
     "metadata": {},
     "output_type": "execute_result"
    }
   ],
   "source": [
    "\n",
    "# Exibindo as primeiras linhas\n",
    "dados.head()"
   ]
  },
  {
   "cell_type": "code",
   "execution_count": 4,
   "id": "04a7f771",
   "metadata": {},
   "outputs": [],
   "source": [
    "# Extraia os valores da coluna 'X' como array\n",
    "X = dados['X'].values\n",
    "\n",
    "# Extraia os valores da coluna 'Y' como array\n",
    "Y = dados['Y'].values"
   ]
  },
  {
   "cell_type": "code",
   "execution_count": 5,
   "id": "469e5dac",
   "metadata": {},
   "outputs": [
    {
     "data": {
      "text/plain": [
       "<matplotlib.legend.Legend at 0x1b3d3b5e850>"
      ]
     },
     "execution_count": 5,
     "metadata": {},
     "output_type": "execute_result"
    },
    {
     "data": {
      "image/png": "[encoded data removed]",
      "text/plain": [
       "<Figure size 640x480 with 1 Axes>"
      ]
     },
     "metadata": {},
     "output_type": "display_data"
    }
   ],
   "source": [
    "\n",
    "# Crie um gráfico de dispersão com os dados\n",
    "plt.scatter(X, Y, label='Y(X)')\n",
    "plt.xlabel('X')\n",
    "plt.ylabel('Y')\n",
    "plt.legend()"
   ]
  },
  {
   "cell_type": "code",
   "execution_count": 6,
   "id": "b77f039e",
   "metadata": {},
   "outputs": [],
   "source": [
    "# Importe a biblioteca statsmodels.api com um alias (apelido) sm\n",
    "import statsmodels.api as sm"
   ]
  },
  {
   "cell_type": "code",
   "execution_count": 7,
   "id": "d24240d4",
   "metadata": {},
   "outputs": [],
   "source": [
    "# Crie um modelo de regressão linear simples usando statsmodels\n",
    "modelo = sm.OLS(Y, X)"
   ]
  },
  {
   "cell_type": "code",
   "execution_count": 8,
   "id": "f12646dc",
   "metadata": {},
   "outputs": [],
   "source": [
    "# Ajuste o modelo aos dados\n",
    "resultado = modelo.fit()"
   ]
  },
  {
   "cell_type": "code",
   "execution_count": 9,
   "id": "0362e620",
   "metadata": {},
   "outputs": [
    {
     "name": "stdout",
     "output_type": "stream",
     "text": [
      "                                 OLS Regression Results                                \n",
      "=======================================================================================\n",
      "Dep. Variable:                      y   R-squared (uncentered):                   0.756\n",
      "Model:                            OLS   Adj. R-squared (uncentered):              0.754\n",
      "Method:                 Least Squares   F-statistic:                              307.0\n",
      "Date:                Tue, 03 Oct 2023   Prob (F-statistic):                    4.23e-32\n",
      "Time:                        11:05:55   Log-Likelihood:                         -322.75\n",
      "No. Observations:                 100   AIC:                                      647.5\n",
      "Df Residuals:                      99   BIC:                                      650.1\n",
      "Df Model:                           1                                                  \n",
      "Covariance Type:            nonrobust                                                  \n",
      "==============================================================================\n",
      "                 coef    std err          t      P>|t|      [0.025      0.975]\n",
      "------------------------------------------------------------------------------\n",
      "x1             1.8563      0.106     17.520      0.000       1.646       2.067\n",
      "==============================================================================\n",
      "Omnibus:                        2.224   Durbin-Watson:                   0.394\n",
      "Prob(Omnibus):                  0.329   Jarque-Bera (JB):                1.543\n",
      "Skew:                          -0.042   Prob(JB):                        0.462\n",
      "Kurtosis:                       2.397   Cond. No.                         1.00\n",
      "==============================================================================\n",
      "\n",
      "Notes:\n",
      "[1] R² is computed without centering (uncentered) since the model does not contain a constant.\n",
      "[2] Standard Errors assume that the covariance matrix of the errors is correctly specified.\n"
     ]
    }
   ],
   "source": [
    "\n",
    "# Imprima um resumo do resultado da regressão\n",
    "print(resultado.summary())"
   ]
  },
  {
   "cell_type": "code",
   "execution_count": 10,
   "id": "7766a441",
   "metadata": {},
   "outputs": [],
   "source": [
    "\n",
    "# Adicione uma constante (intercepto) aos dados X\n",
    "X = sm.add_constant(X)"
   ]
  },
  {
   "cell_type": "code",
   "execution_count": 11,
   "id": "ee1cd7d6",
   "metadata": {},
   "outputs": [],
   "source": [
    "# Crie um segundo modelo de regressão linear com a constante adicionada\n",
    "modelo2 = sm.OLS(Y, X)"
   ]
  },
  {
   "cell_type": "code",
   "execution_count": 12,
   "id": "ab9a2b12",
   "metadata": {},
   "outputs": [],
   "source": [
    "# Ajuste o segundo modelo aos dados\n",
    "resultado2 = modelo2.fit()"
   ]
  },
  {
   "cell_type": "code",
   "execution_count": 13,
   "id": "1f45247d",
   "metadata": {},
   "outputs": [
    {
     "name": "stdout",
     "output_type": "stream",
     "text": [
      "                            OLS Regression Results                            \n",
      "==============================================================================\n",
      "Dep. Variable:                      y   R-squared:                       0.947\n",
      "Model:                            OLS   Adj. R-squared:                  0.946\n",
      "Method:                 Least Squares   F-statistic:                     1740.\n",
      "Date:                Tue, 03 Oct 2023   Prob (F-statistic):           3.40e-64\n",
      "Time:                        11:06:17   Log-Likelihood:                -230.75\n",
      "No. Observations:                 100   AIC:                             465.5\n",
      "Df Residuals:                      98   BIC:                             470.7\n",
      "Df Model:                           1                                         \n",
      "Covariance Type:            nonrobust                                         \n",
      "==============================================================================\n",
      "                 coef    std err          t      P>|t|      [0.025      0.975]\n",
      "------------------------------------------------------------------------------\n",
      "const        -11.1095      0.488    -22.783      0.000     -12.077     -10.142\n",
      "x1             3.5144      0.084     41.716      0.000       3.347       3.682\n",
      "==============================================================================\n",
      "Omnibus:                        0.064   Durbin-Watson:                   2.476\n",
      "Prob(Omnibus):                  0.968   Jarque-Bera (JB):                0.014\n",
      "Skew:                           0.021   Prob(JB):                        0.993\n",
      "Kurtosis:                       2.962   Cond. No.                         11.7\n",
      "==============================================================================\n",
      "\n",
      "Notes:\n",
      "[1] Standard Errors assume that the covariance matrix of the errors is correctly specified.\n"
     ]
    }
   ],
   "source": [
    "# Imprima um resumo do resultado do segundo modelo de regressão\n",
    "print(resultado2.summary())"
   ]
  },
  {
   "cell_type": "code",
   "execution_count": 14,
   "id": "ea906109",
   "metadata": {},
   "outputs": [],
   "source": [
    "# Obtenha os coeficientes linear e angular do segundo modelo\n",
    "coef_linear, coef_angular = resultado2.params"
   ]
  },
  {
   "cell_type": "code",
   "execution_count": 15,
   "id": "898264dc",
   "metadata": {},
   "outputs": [],
   "source": [
    "# Calcule a reta de ajuste usando os coeficientes obtidos\n",
    "reta = coef_angular * X + coef_linear"
   ]
  },
  {
   "cell_type": "code",
   "execution_count": 16,
   "id": "a551e830",
   "metadata": {},
   "outputs": [],
   "source": [
    "# Extraia apenas a coluna com os valores de X (removendo a constante)\n",
    "X = X[:, 1]\n",
    "reta = reta[:, 1]"
   ]
  },
  {
   "cell_type": "code",
   "execution_count": 17,
   "id": "02272694",
   "metadata": {},
   "outputs": [
    {
     "data": {
      "text/plain": [
       "<matplotlib.legend.Legend at 0x1b3d3b9b190>"
      ]
     },
     "execution_count": 17,
     "metadata": {},
     "output_type": "execute_result"
    },
    {
     "data": {
      "image/png": "[encoded data removed]",
      "text/plain": [
       "<Figure size 640x480 with 1 Axes>"
      ]
     },
     "metadata": {},
     "output_type": "display_data"
    }
   ],
   "source": [
    "# Crie um gráfico de dispersão com os dados e a reta de ajuste\n",
    "plt.scatter(X, Y, label='Y(X)')\n",
    "plt.plot(X, reta, label='Ajuste linear', color='red')\n",
    "plt.xlabel('X')\n",
    "plt.ylabel('Y')\n",
    "plt.legend()"
   ]
  },
  {
   "cell_type": "code",
   "execution_count": 18,
   "id": "626373ba",
   "metadata": {},
   "outputs": [
    {
     "name": "stdout",
     "output_type": "stream",
     "text": [
      "MAE = 1.89\n",
      "RMSE = 2.43\n"
     ]
    }
   ],
   "source": [
    "# Importe as métricas de erro médio absoluto (MAE) e erro quadrático médio (RMSE)\n",
    "from sklearn.metrics import mean_absolute_error, mean_squared_error\n",
    "\n",
    "# Calcule o MAE e o RMSE entre os dados reais e a reta de ajuste\n",
    "MAE = mean_absolute_error(Y, reta)\n",
    "RMSE = np.sqrt(mean_squared_error(Y, reta))\n",
    "\n",
    "# Imprima as métricas de erro\n",
    "print(\"MAE = {:0.2f}\".format(MAE))\n",
    "print(\"RMSE = {:0.2f}\".format(RMSE))"
   ]
  },
  {
   "cell_type": "code",
   "execution_count": null,
   "id": "bd9ed776",
   "metadata": {},
   "outputs": [],
   "source": []
  }
 ],
 "metadata": {
  "kernelspec": {
   "display_name": "Python 3 (ipykernel)",
   "language": "python",
   "name": "python3"
  },
  "language_info": {
   "codemirror_mode": {
    "name": "ipython",
    "version": 3
   },
   "file_extension": ".py",
   "mimetype": "text/x-python",
   "name": "python",
   "nbconvert_exporter": "python",
   "pygments_lexer": "ipython3",
   "version": "3.11.4"
  }
 },
 "nbformat": 4,
 "nbformat_minor": 5
}
